{
 "cells": [
  {
   "cell_type": "code",
   "execution_count": 2,
   "id": "3791fa46",
   "metadata": {},
   "outputs": [],
   "source": [
    "# Import dependencies\n",
    "import pandas as pd\n",
    "import chardet\n",
    "# For data base creation\n",
    "from sqlalchemy import create_engine\n",
    "# from config import db_password\n",
    "import os\n",
    "import os.path, sys\n",
    "import glob"
   ]
  },
  {
   "cell_type": "code",
   "execution_count": 3,
   "id": "943cbeab",
   "metadata": {},
   "outputs": [],
   "source": [
    "# tournament file location\n",
    "file = '../../atp-world-tour-tennis-data/csv/1_tournaments/'"
   ]
  },
  {
   "cell_type": "code",
   "execution_count": 4,
   "id": "7b88a9e6",
   "metadata": {},
   "outputs": [],
   "source": [
    "# def for cleaning tournament data\n",
    "def clean_tournament(file):\n",
    "    # assign path\n",
    "    path, dirs, files = next(os.walk(file))\n",
    "    file_count = len(files)\n",
    "    # create empty list\n",
    "    dataframes_list = []\n",
    "    \n",
    "    # append datasets to the list\n",
    "    for i in range(file_count):\n",
    "        with open(file+files[i], 'rb') as rawdata:\n",
    "            result = chardet.detect(rawdata.read(100000))\n",
    "        temp_df = pd.read_csv(file+files[i], encoding=result['encoding'], header=None)\n",
    "        dataframes_list.append(temp_df)\n",
    "\n",
    "    df = pd.concat(dataframes_list)\n",
    "    df.drop(columns=[1,4,5,8,9,10,12,15,16,17,18,19,20,21,23,24,25,26,27,28,29,30], inplace=True)\n",
    "    df = df.reindex(columns=[0,2,3,7,6,11,13,14,22])\n",
    "    header_df = pd.read_csv(\"../temp/Tourney_header.csv\")\n",
    "    df.columns = header_df.columns\n",
    "    #Combinding coloumns 2,3\n",
    "    df[\"Name\"] = df[\"Name\"]+\"-\"+ df[\"temp\"]\n",
    "    df = df.drop(columns =['temp'])\n",
    "    print(df.head())"
   ]
  },
  {
   "cell_type": "code",
   "execution_count": 5,
   "id": "bfb51b01",
   "metadata": {},
   "outputs": [
    {
     "name": "stdout",
     "output_type": "stream",
     "text": [
      "  Turney_id                  Name        Date               Location  \\\n",
      "0  1877-540  Grand Slam-Wimbledon  1877.07.09  London, Great Britain   \n",
      "1  1878-540  Grand Slam-Wimbledon  1878.07.08  London, Great Britain   \n",
      "2  1879-540  Grand Slam-Wimbledon  1879.07.07  London, Great Britain   \n",
      "3  1880-540  Grand Slam-Wimbledon  1880.07.05  London, Great Britain   \n",
      "4  1881-540  Grand Slam-Wimbledon  1881.07.02  London, Great Britain   \n",
      "\n",
      "   Draw_size Conditions Surface Winner_id  \n",
      "0         32    Outdoor   Grass      gi91  \n",
      "1         64    Outdoor   Grass      hg50  \n",
      "2         64    Outdoor   Grass      hg35  \n",
      "3         64    Outdoor   Grass      hg35  \n",
      "4         64    Outdoor   Grass      rg71  \n"
     ]
    }
   ],
   "source": [
    "# running CT function\n",
    "clean_tournament(file)"
   ]
  },
  {
   "cell_type": "code",
   "execution_count": null,
   "id": "add3da03",
   "metadata": {},
   "outputs": [],
   "source": []
  }
 ],
 "metadata": {
  "kernelspec": {
   "display_name": "Python 3",
   "language": "python",
   "name": "python3"
  },
  "language_info": {
   "codemirror_mode": {
    "name": "ipython",
    "version": 3
   },
   "file_extension": ".py",
   "mimetype": "text/x-python",
   "name": "python",
   "nbconvert_exporter": "python",
   "pygments_lexer": "ipython3",
   "version": "3.9.13 (tags/v3.9.13:6de2ca5, May 17 2022, 16:36:42) [MSC v.1929 64 bit (AMD64)]"
  },
  "vscode": {
   "interpreter": {
    "hash": "72062d066e570c5208c46f5646b8098f20832915629ef4581103c5eeffe5dd6d"
   }
  }
 },
 "nbformat": 4,
 "nbformat_minor": 5
}
