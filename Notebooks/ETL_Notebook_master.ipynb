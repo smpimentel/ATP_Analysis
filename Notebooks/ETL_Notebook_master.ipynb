{
 "cells": [
  {
   "cell_type": "code",
   "execution_count": 6,
   "id": "3791fa46",
   "metadata": {},
   "outputs": [],
   "source": [
    "# Import dependencies\n",
    "import pandas as pd\n",
    "import chardet\n",
    "# For data base creation\n",
    "from sqlalchemy import create_engine\n",
    "# from config import db_password\n",
    "import os\n",
    "import os.path, sys\n",
    "import glob"
   ]
  },
  {
   "cell_type": "code",
   "execution_count": 7,
   "id": "943cbeab",
   "metadata": {},
   "outputs": [],
   "source": [
    "# tournament file location\n",
    "file = '../../atp-world-tour-tennis-data/csv/1_tournaments/'"
   ]
  },
  {
   "cell_type": "code",
   "execution_count": 8,
   "id": "7b88a9e6",
   "metadata": {},
   "outputs": [],
   "source": [
    "# def for cleaning tournament data\n",
    "def clean_tournament(file):\n",
    "    # assign path\n",
    "    path, dirs, files = next(os.walk(file))\n",
    "    file_count = len(files)\n",
    "    # create empty list\n",
    "    dataframes_list = []\n",
    "    \n",
    "    # append datasets to the list\n",
    "    for i in range(file_count):\n",
    "        with open(file+files[i], 'rb') as rawdata:\n",
    "            result = chardet.detect(rawdata.read(100000))\n",
    "        temp_df = pd.read_csv(file+files[i], encoding=result['encoding'], header=None)\n",
    "        dataframes_list.append(temp_df)\n",
    "\n",
    "    df = pd.concat(dataframes_list)\n",
    "    df.drop(columns=[1,4,5,8,9,10,12,15,16,17,18,19,20,21,23,24,25,26,27,28,29,30], inplace=True)\n",
    "    df = df.reindex(columns=[0,2,3,7,6,11,13,14,22])\n",
    "    header_df = pd.read_csv(\"../temp/Tourney_header.csv\")\n",
    "    df.columns = header_df.columns\n",
    "    #Combinding coloumns 2,3\n",
    "    df[\"Name\"] = df[\"Name\"]+\"-\"+ df[\"temp\"]\n",
    "    df = df.drop(columns =['temp'])\n",
    "    print(df.head())"
   ]
  },
  {
   "cell_type": "code",
   "execution_count": 23,
   "id": "9204660a",
   "metadata": {},
   "outputs": [],
   "source": [
    "def clean_Match_Score(file):\n",
    "    # finds informations and puts it in a df\n",
    "    file = '../../atp-world-tour-tennis-data/csv/2_match_scores/'\n",
    "\n",
    "    # assign path\n",
    "    path, dirs, files = next(os.walk(file))\n",
    "    file_count = len(files)\n",
    "    # create empty list\n",
    "    dataframes_list = []\n",
    "    \n",
    "    # append datasets to the list\n",
    "    for i in range(file_count):\n",
    "        temp_df = pd.read_csv(file+files[i], encoding='utf-8', header=None)\n",
    "        dataframes_list.append(temp_df)\n",
    "\n",
    "    df_W = pd.concat(dataframes_list)\n",
    "    df_L = pd.concat(dataframes_list)\n",
    "    # dropping un needed winner stats\n",
    "    df_W.drop(columns=[1,2,3,4,5,6,7,8,9,10,11,12,13,14,15,17,18,19,21,22,23,24,25,26,28,29,30,31,32,33], inplace=True)\n",
    "    # Dropping un neededd Loser stats\n",
    "    df_L.drop(columns = [1,2,3,4,5,6,7,8,9,10,11,12,13,14,15,17,18,19,20,21,22,24,25,26,28,29,30,31,32,33,35], inplace=True)\n",
    "    # reorder columns to match headers\n",
    "    df_W =df_W.reindex(columns = [34,0,20,16,27,5])\n",
    "    df_L=df_L.reindex(columns=[34,0,23,16,27,5])\n",
    "    # setting winner&Loser headers\n",
    "    df_W_Header = pd.read_csv(\"../temp/Match_score_header_W.csv\")\n",
    "    df_L_Header = pd.read_csv(\"../temp/Match_score_header_L.csv\")\n",
    "    # connecting winner&loser headers\n",
    "    df_W.columns = df_W_Header.columns\n",
    "    df_L.columns = df_L_Header.columns\n",
    "    # Setting player_results\n",
    "    df_W['Player_result'] = pd.Series('Won', index=df_L.index)\n",
    "    df_L['Player_result'] = pd.Series('Lost', index=df_L.index)\n",
    "    print(df_W.head())\n",
    "    print(df_L.head())"
   ]
  },
  {
   "cell_type": "code",
   "execution_count": 5,
   "id": "bfb51b01",
   "metadata": {},
   "outputs": [
    {
     "name": "stdout",
     "output_type": "stream",
     "text": [
      "  Turney_id                  Name        Date               Location  \\\n",
      "0  1877-540  Grand Slam-Wimbledon  1877.07.09  London, Great Britain   \n",
      "1  1878-540  Grand Slam-Wimbledon  1878.07.08  London, Great Britain   \n",
      "2  1879-540  Grand Slam-Wimbledon  1879.07.07  London, Great Britain   \n",
      "3  1880-540  Grand Slam-Wimbledon  1880.07.05  London, Great Britain   \n",
      "4  1881-540  Grand Slam-Wimbledon  1881.07.02  London, Great Britain   \n",
      "\n",
      "   Draw_size Conditions Surface Winner_id  \n",
      "0         32    Outdoor   Grass      gi91  \n",
      "1         64    Outdoor   Grass      hg50  \n",
      "2         64    Outdoor   Grass      hg35  \n",
      "3         64    Outdoor   Grass      hg35  \n",
      "4         64    Outdoor   Grass      rg71  \n"
     ]
    }
   ],
   "source": [
    "# running CT function\n",
    "clean_tournament(file)"
   ]
  },
  {
   "cell_type": "code",
   "execution_count": 24,
   "id": "add3da03",
   "metadata": {},
   "outputs": [
    {
     "name": "stdout",
     "output_type": "stream",
     "text": [
      "                      Match_id Tourney_id Player_id           Round  \\\n",
      "0  1877-540-NULL-4-1-gi91-mu62   1877-540      gi91          Finals   \n",
      "1  1877-540-NULL-3-1-gi91-hg42   1877-540      gi91     Semi-Finals   \n",
      "2  1877-540-NULL-2-3-gi91-lh23   1877-540      gi91  Quarter-Finals   \n",
      "3  1877-540-NULL-2-2-hg42-mu66   1877-540      hg42  Quarter-Finals   \n",
      "4  1877-540-NULL-2-1-mu62-e994   1877-540      mu62  Quarter-Finals   \n",
      "\n",
      "         Score Player_result  \n",
      "0     61 62 64           Won  \n",
      "1     62 65 62           Won  \n",
      "2  63 62 56 61           Won  \n",
      "3     63 63 65           Won  \n",
      "4  65 56 64 61           Won  \n",
      "                      Match_id Tourney_id Player_id           Round  \\\n",
      "0  1877-540-NULL-4-1-gi91-mu62   1877-540      mu62          Finals   \n",
      "1  1877-540-NULL-3-1-gi91-hg42   1877-540      hg42     Semi-Finals   \n",
      "2  1877-540-NULL-2-3-gi91-lh23   1877-540      lh23  Quarter-Finals   \n",
      "3  1877-540-NULL-2-2-hg42-mu66   1877-540      mu66  Quarter-Finals   \n",
      "4  1877-540-NULL-2-1-mu62-e994   1877-540      e994  Quarter-Finals   \n",
      "\n",
      "         Score Player_result  \n",
      "0     61 62 64          Lost  \n",
      "1     62 65 62          Lost  \n",
      "2  63 62 56 61          Lost  \n",
      "3     63 63 65          Lost  \n",
      "4  65 56 64 61          Lost  \n"
     ]
    }
   ],
   "source": [
    "clean_Match_Score(file)"
   ]
  }
 ],
 "metadata": {
  "kernelspec": {
   "display_name": "Python 3",
   "language": "python",
   "name": "python3"
  },
  "language_info": {
   "codemirror_mode": {
    "name": "ipython",
    "version": 3
   },
   "file_extension": ".py",
   "mimetype": "text/x-python",
   "name": "python",
   "nbconvert_exporter": "python",
   "pygments_lexer": "ipython3",
   "version": "3.9.13"
  },
  "vscode": {
   "interpreter": {
    "hash": "72062d066e570c5208c46f5646b8098f20832915629ef4581103c5eeffe5dd6d"
   }
  }
 },
 "nbformat": 4,
 "nbformat_minor": 5
}
